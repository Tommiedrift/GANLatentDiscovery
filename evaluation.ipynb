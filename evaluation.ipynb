{
 "cells": [
  {
   "cell_type": "code",
   "execution_count": 1,
   "metadata": {},
   "outputs": [
    {
     "name": "stdout",
     "output_type": "stream",
     "text": [
      "Requirement already satisfied: tqdm in /home/tommie/.local/lib/python3.8/site-packages (4.64.0)\n",
      "Note: you may need to restart the kernel to use updated packages.\n",
      "Requirement already satisfied: tensorboardX in /home/tommie/.local/lib/python3.8/site-packages (2.5)\n",
      "Requirement already satisfied: numpy in /usr/lib/python3/dist-packages (from tensorboardX) (1.17.4)\n",
      "Requirement already satisfied: protobuf>=3.8.0 in /usr/lib/python3/dist-packages (from tensorboardX) (3.11.4)\n",
      "Requirement already satisfied: six in /usr/lib/python3/dist-packages (from tensorboardX) (1.14.0)\n",
      "Note: you may need to restart the kernel to use updated packages.\n"
     ]
    },
    {
     "name": "stderr",
     "output_type": "stream",
     "text": [
      "/home/tommie/.local/lib/python3.8/site-packages/tqdm/auto.py:22: TqdmWarning: IProgress not found. Please update jupyter and ipywidgets. See https://ipywidgets.readthedocs.io/en/stable/user_install.html\n",
      "  from .autonotebook import tqdm as notebook_tqdm\n"
     ]
    },
    {
     "name": "stdout",
     "output_type": "stream",
     "text": [
      "StyleGAN2 load fail: Ninja is required to load C++ extensions\n"
     ]
    },
    {
     "ename": "RuntimeError",
     "evalue": "CUDA error: out of memory",
     "output_type": "error",
     "traceback": [
      "\u001b[0;31m---------------------------------------------------------------------------\u001b[0m",
      "\u001b[0;31mRuntimeError\u001b[0m                              Traceback (most recent call last)",
      "\u001b[0;32m<ipython-input-1-09b82d627ca7>\u001b[0m in \u001b[0;36m<module>\u001b[0;34m\u001b[0m\n\u001b[1;32m     11\u001b[0m \u001b[0mget_ipython\u001b[0m\u001b[0;34m(\u001b[0m\u001b[0;34m)\u001b[0m\u001b[0;34m.\u001b[0m\u001b[0mrun_line_magic\u001b[0m\u001b[0;34m(\u001b[0m\u001b[0;34m'matplotlib'\u001b[0m\u001b[0;34m,\u001b[0m \u001b[0;34m'inline'\u001b[0m\u001b[0;34m)\u001b[0m\u001b[0;34m\u001b[0m\u001b[0;34m\u001b[0m\u001b[0m\n\u001b[1;32m     12\u001b[0m \u001b[0;34m\u001b[0m\u001b[0m\n\u001b[0;32m---> 13\u001b[0;31m deformator, G, shift_predictor = load_from_dir(\n\u001b[0m\u001b[1;32m     14\u001b[0m     \u001b[0mroot_dir\u001b[0m \u001b[0;34m=\u001b[0m \u001b[0;34m'/dataB1/tommie/recon_out/new_w_t0'\u001b[0m\u001b[0;34m,\u001b[0m\u001b[0;34m\u001b[0m\u001b[0;34m\u001b[0m\u001b[0m\n\u001b[1;32m     15\u001b[0m     plk = '/dataB1/tommie/training-runs/00027-stylegan2-onlycrack_crop_256_img-gpus2-batch16-gamma32/network-snapshot-002862.pkl')\n",
      "\u001b[0;32m~/ganlatentdiscovery/loading.py\u001b[0m in \u001b[0;36mload_from_dir\u001b[0;34m(root_dir, plk, model_index, G_weights, shift_in_w)\u001b[0m\n\u001b[1;32m     51\u001b[0m \u001b[0;34m\u001b[0m\u001b[0m\n\u001b[1;32m     52\u001b[0m     \u001b[0;31m# G = load_generator(args, G_weights)\u001b[0m\u001b[0;34m\u001b[0m\u001b[0;34m\u001b[0m\u001b[0;34m\u001b[0m\u001b[0m\n\u001b[0;32m---> 53\u001b[0;31m     deformator = LatentDeformator(\n\u001b[0m\u001b[1;32m     54\u001b[0m         \u001b[0mshift_dim\u001b[0m\u001b[0;34m=\u001b[0m\u001b[0mG\u001b[0m\u001b[0;34m.\u001b[0m\u001b[0mw_dim\u001b[0m\u001b[0;34m,\u001b[0m\u001b[0;34m\u001b[0m\u001b[0;34m\u001b[0m\u001b[0m\n\u001b[1;32m     55\u001b[0m         \u001b[0minput_dim\u001b[0m\u001b[0;34m=\u001b[0m\u001b[0margs\u001b[0m\u001b[0;34m[\u001b[0m\u001b[0;34m'directions_count'\u001b[0m\u001b[0;34m]\u001b[0m \u001b[0;32mif\u001b[0m \u001b[0;34m'directions_count'\u001b[0m \u001b[0;32min\u001b[0m \u001b[0margs\u001b[0m\u001b[0;34m.\u001b[0m\u001b[0mkeys\u001b[0m\u001b[0;34m(\u001b[0m\u001b[0;34m)\u001b[0m \u001b[0;32melse\u001b[0m \u001b[0;32mNone\u001b[0m\u001b[0;34m,\u001b[0m\u001b[0;34m\u001b[0m\u001b[0;34m\u001b[0m\u001b[0m\n",
      "\u001b[0;32m~/ganlatentdiscovery/latent_deformator.py\u001b[0m in \u001b[0;36m__init__\u001b[0;34m(self, shift_dim, input_dim, out_dim, inner_dim, type, random_init, bias)\u001b[0m\n\u001b[1;32m     52\u001b[0m         \u001b[0;32melif\u001b[0m \u001b[0mself\u001b[0m\u001b[0;34m.\u001b[0m\u001b[0mtype\u001b[0m \u001b[0;34m==\u001b[0m \u001b[0mDeformatorType\u001b[0m\u001b[0;34m.\u001b[0m\u001b[0mORTHO\u001b[0m\u001b[0;34m:\u001b[0m\u001b[0;34m\u001b[0m\u001b[0;34m\u001b[0m\u001b[0m\n\u001b[1;32m     53\u001b[0m             \u001b[0;32massert\u001b[0m \u001b[0mself\u001b[0m\u001b[0;34m.\u001b[0m\u001b[0minput_dim\u001b[0m \u001b[0;34m==\u001b[0m \u001b[0mself\u001b[0m\u001b[0;34m.\u001b[0m\u001b[0mout_dim\u001b[0m\u001b[0;34m,\u001b[0m \u001b[0;34m'In/out dims must be equal for ortho'\u001b[0m\u001b[0;34m\u001b[0m\u001b[0;34m\u001b[0m\u001b[0m\n\u001b[0;32m---> 54\u001b[0;31m             self.log_mat_half = nn.Parameter((1.0 if random_init else 0.001) * torch.randn(\n\u001b[0m\u001b[1;32m     55\u001b[0m                 [self.input_dim, self.input_dim], device='cuda'), True)\n\u001b[1;32m     56\u001b[0m \u001b[0;34m\u001b[0m\u001b[0m\n",
      "\u001b[0;31mRuntimeError\u001b[0m: CUDA error: out of memory"
     ]
    }
   ],
   "source": [
    "%load_ext autoreload\n",
    "%autoreload 2\n",
    "%pip install tqdm\n",
    "%pip install tensorboardX\n",
    "import torch\n",
    "from matplotlib import pyplot as plt\n",
    "from torchvision.utils import make_grid\n",
    "from torch_tools.visualization import to_image\n",
    "from visualization import interpolate\n",
    "from loading import load_from_dir\n",
    "%matplotlib inline\n",
    "\n",
    "deformator, G, shift_predictor = load_from_dir(\n",
    "    root_dir = '/dataB1/tommie/recon_out/new_w_t0',\n",
    "    plk = '/dataB1/tommie/training-runs/00027-stylegan2-onlycrack_crop_256_img-gpus2-batch16-gamma32/network-snapshot-002862.pkl')\n",
    "\n",
    "# deformator, G, shift_predictor = load_from_dir(\n",
    "#     './models/pretrained/deformators/SN_Anime/',\n",
    "#     G_weights='./models/pretrained/generators/SN_Anime/')\n",
    "\n",
    "# deformator, G, shift_predictor = load_from_dir(\n",
    "#     './models/pretrained/deformators/BigGAN/',cond\n",
    "#     G_weights='./models/pretrained/generators/BigGAN/G_ema.pth')\n",
    "\n",
    "# deformator, G, shift_predictor = load_from_dir(\n",
    "#     './models/pretrained/deformators/ProgGAN/',\n",
    "#     G_weights='./models/pretrained/generators/ProgGAN/100_celeb_hq_network-snapshot-010403.pth')\n",
    "\n",
    "# deformator, G, shift_predictor = load_from_dir(\n",
    "#     './models/pretrained/deformators/StyleGAN2/',\n",
    "#     G_weights='./models/pretrained/generators/StyleGAN2/stylegan2-ffhq-config-f.pt')\n",
    "\n",
    "discovered_annotation = ''\n",
    "for d in deformator.annotation.items():\n",
    "    discovered_annotation += '{}: {}\\n'.format(d[0], d[1])\n",
    "print('human-annotated directions:\\n' + discovered_annotation)"
   ]
  },
  {
   "cell_type": "code",
   "execution_count": null,
   "metadata": {},
   "outputs": [
    {
     "ename": "NameError",
     "evalue": "name 'G' is not defined",
     "output_type": "error",
     "traceback": [
      "\u001b[0;31m---------------------------------------------------------------------------\u001b[0m",
      "\u001b[0;31mNameError\u001b[0m                                 Traceback (most recent call last)",
      "\u001b[0;32m<ipython-input-13-0b1289eadd05>\u001b[0m in \u001b[0;36m<module>\u001b[0;34m\u001b[0m\n\u001b[1;32m      5\u001b[0m \u001b[0;34m\u001b[0m\u001b[0m\n\u001b[1;32m      6\u001b[0m \u001b[0;31m# set desired class for conditional GAN\u001b[0m\u001b[0;34m\u001b[0m\u001b[0;34m\u001b[0m\u001b[0;34m\u001b[0m\u001b[0m\n\u001b[0;32m----> 7\u001b[0;31m \u001b[0;32mif\u001b[0m \u001b[0mis_conditional\u001b[0m\u001b[0;34m(\u001b[0m\u001b[0mG\u001b[0m\u001b[0;34m)\u001b[0m\u001b[0;34m:\u001b[0m\u001b[0;34m\u001b[0m\u001b[0;34m\u001b[0m\u001b[0m\n\u001b[0m\u001b[1;32m      8\u001b[0m     \u001b[0mG\u001b[0m\u001b[0;34m.\u001b[0m\u001b[0mset_classes\u001b[0m\u001b[0;34m(\u001b[0m\u001b[0;36m12\u001b[0m\u001b[0;34m)\u001b[0m\u001b[0;34m\u001b[0m\u001b[0;34m\u001b[0m\u001b[0m\n\u001b[1;32m      9\u001b[0m \u001b[0;34m\u001b[0m\u001b[0m\n",
      "\u001b[0;31mNameError\u001b[0m: name 'G' is not defined"
     ]
    },
    {
     "data": {
      "text/plain": [
       "<Figure size 1250x2000 with 0 Axes>"
      ]
     },
     "metadata": {},
     "output_type": "display_data"
    }
   ],
   "source": [
    "from utils import is_conditional\n",
    "\n",
    "rows = 8\n",
    "plt.figure(figsize=(5, rows), dpi=250)\n",
    "\n",
    "# set desired class for conditional GAN\n",
    "if is_conditional(G):\n",
    "    G.set_classes(12)\n",
    "\n",
    "annotated = list(deformator.annotation.values())\n",
    "inspection_dim = annotated[0]\n",
    "zs = torch.randn([rows, G.z_dim] if type(G.z_dim) == int else [rows] + G.z_dim, device='cuda')\n",
    "\n",
    "\n",
    "for z, i in zip(zs, range(rows)):\n",
    "    interpolation_deformed = interpolate(\n",
    "        G, z.unsqueeze(0),\n",
    "        shifts_r=16,\n",
    "        shifts_count=3,\n",
    "        dim=inspection_dim,\n",
    "        deformator=deformator,\n",
    "        with_central_border=True)\n",
    "\n",
    "    plt.subplot(rows, 1, i + 1)\n",
    "    plt.axis('off')\n",
    "    grid = make_grid(interpolation_deformed, nrow=11, padding=1, pad_value=0.0)\n",
    "    grid = torch.clamp(grid, -1, 1)\n",
    "\n",
    "    plt.imshow(to_image(grid))"
   ]
  },
  {
   "cell_type": "code",
   "execution_count": null,
   "metadata": {},
   "outputs": [],
   "source": []
  }
 ],
 "metadata": {
  "kernelspec": {
   "display_name": "Python 3",
   "language": "python",
   "name": "python3"
  }
 },
 "nbformat": 4,
 "nbformat_minor": 2
}
